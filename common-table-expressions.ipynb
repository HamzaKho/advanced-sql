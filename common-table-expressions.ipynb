{
 "cells": [
  {
   "cell_type": "markdown",
   "metadata": {},
   "source": [
    "![Digital Futures](https://github.com/digital-futures-academy/DataScienceMasterResources/blob/main/Resources/datascience-notebook-header.png?raw=true)"
   ]
  },
  {
   "cell_type": "markdown",
   "metadata": {},
   "source": [
    "## Learner Stories\n",
    "\n",
    "```text\n",
    "As a DATA PROFESSIONAL,  \n",
    "I want to be able to write subqueries and use Common Table Expressions (CTEs),  \n",
    "so that I can break down complex queries into simpler, reusable components\n",
    "```"
   ]
  },
  {
   "cell_type": "markdown",
   "metadata": {},
   "source": [
    "# What are Common Table Expressions (CTEs)?\n",
    "\n",
    "Common Table Expressions (CTEs) are temporary result sets that you can reference within a SELECT, INSERT, UPDATE, or DELETE statement. They are defined using the WITH keyword and are useful for creating complex queries that are easier to read and maintain.  They are a little bit like context managers in Python, but for SQL!"
   ]
  },
  {
   "cell_type": "markdown",
   "metadata": {},
   "source": [
    "### Example of a CTE\n",
    "\n",
    "```sql\n",
    "WITH cte AS (\n",
    "    SELECT column1, column2\n",
    "    FROM table1\n",
    "    WHERE column3 = 'value'\n",
    ")\n",
    "SELECT *\n",
    "FROM cte;\n",
    "```"
   ]
  },
  {
   "cell_type": "markdown",
   "metadata": {},
   "source": [
    "---"
   ]
  },
  {
   "cell_type": "markdown",
   "metadata": {},
   "source": [
    "## Why Use CTEs?\n",
    "\n",
    "CTEs are useful for a number of reasons:\n",
    "\n",
    "1. **Readability**: CTEs can make complex queries easier to read and understand by breaking them down into smaller, more manageable parts.\n",
    "2. **Reusability**: CTEs can be referenced multiple times within a query, allowing you to reuse the same logic in different parts of the query.\n",
    "3. **Performance**: CTEs can improve query performance by allowing the database engine to optimize the execution plan.\n",
    "4. **Debugging**: CTEs can be used to isolate and test specific parts of a query, making it easier to identify and fix issues.\n",
    "5. **Recursive Queries**: CTEs can be used to create recursive queries that reference themselves, allowing you to work with hierarchical data structures.\n",
    "6. **Window Functions**: CTEs can be used in conjunction with window functions to perform complex analytical queries. (Window functions are a powerful feature of SQL that allow you to perform calculations across a set of rows related to the current row.)\n",
    "7. **Data Transformation**: CTEs can be used to transform data in a query, such as aggregating, filtering, or joining data from multiple tables."
   ]
  },
  {
   "cell_type": "markdown",
   "metadata": {},
   "source": [
    "---"
   ]
  },
  {
   "cell_type": "markdown",
   "metadata": {},
   "source": [
    "## Use Cases for CTEs\n",
    "\n",
    "Here are some common use cases for CTEs:\n",
    "\n",
    "1. **Recursive Queries**: CTEs can be used to create recursive queries that reference themselves, allowing you to work with hierarchical data structures such as organizational charts, bill of materials, or social networks.\n",
    "2. **Reusable Queries**: CTEs can be used to define reusable subqueries that can be referenced multiple times within a query, reducing duplication and improving maintainability.\n",
    "3. **Data Transformation**: CTEs can be used to transform data in a query, such as aggregating, filtering, or joining data from multiple tables.\n",
    "\n",
    "Here is an example of a ***recursive*** CTE that generates a list of all employees and their managers in an organizational chart:\n",
    "\n",
    "```sql\n",
    "WITH RECURSIVE employee_hierarchy AS (\n",
    "    SELECT employee_id, manager_id\n",
    "    FROM employees\n",
    "    WHERE manager_id IS NULL\n",
    "    UNION ALL\n",
    "    SELECT e.employee_id, e.manager_id\n",
    "    FROM employees e\n",
    "    JOIN employee_hierarchy eh ON e.manager_id = eh.employee_id\n",
    ")\n",
    "SELECT *\n",
    "FROM employee_hierarchy;\n",
    "```\n",
    "\n",
    "This query does the following:\n",
    "\n",
    "- The initial query selects the root node of the hierarchy (employees with no manager).\n",
    "- The recursive part of the query joins the employees table with the CTE to find the direct reports of each manager.\n",
    "- The UNION ALL operator combines the results of the initial query and the recursive part to generate the final result set.\n",
    "- The SELECT statement at the end retrieves the final result set.\n",
    "- The query will continue to execute recursively until all levels of the hierarchy have been processed."
   ]
  },
  {
   "cell_type": "markdown",
   "metadata": {},
   "source": [
    "---"
   ]
  },
  {
   "cell_type": "markdown",
   "metadata": {},
   "source": [
    "## Demo Database Set Up\n",
    "\n",
    "To see some examples in action, we'll create an in-memory SQLite database and populate it with some sample data. We'll then run a recursive query to generate an organizational chart."
   ]
  },
  {
   "cell_type": "markdown",
   "metadata": {},
   "source": [
    "#### Create and Populate the Database"
   ]
  },
  {
   "cell_type": "code",
   "execution_count": 178,
   "metadata": {},
   "outputs": [
    {
     "data": {
      "text/plain": [
       "<sqlite3.Cursor at 0x26d07b11fc0>"
      ]
     },
     "execution_count": 178,
     "metadata": {},
     "output_type": "execute_result"
    }
   ],
   "source": [
    "import sqlite3\n",
    "\n",
    "# Create an in-memory SQLite database\n",
    "conn = sqlite3.connect(':memory:')\n",
    "cursor = conn.cursor()\n",
    "\n",
    "# Create the employees table\n",
    "cursor.execute('''\n",
    "CREATE TABLE employees (\n",
    "    employee_id INTEGER PRIMARY KEY,\n",
    "    name TEXT,\n",
    "    manager_id INTEGER\n",
    ")\n",
    "''')\n",
    "\n",
    "# Populate the employees table with sample data\n",
    "employees = [\n",
    "    (1, 'Alice', None),  # Top-level employee with no manager\n",
    "    (2, 'Bob', 1),       # Employee under Manager Alice\n",
    "    (3, 'Charlie', 1),   # Another Employee under Manager Alice\n",
    "    (4, 'David', 2),     # Employee under Manager Bob\n",
    "    (5, 'Eve', 2),       # Another Employee under Manager Bob\n",
    "    (6, 'Frank', 3),     # Employee under Manager Charlie\n",
    "    (7, 'Grace', 4),     # Employee under Employee David\n",
    "]\n",
    "\n",
    "cursor.executemany('INSERT INTO employees (employee_id, name, manager_id) VALUES (?, ?, ?)', employees)"
   ]
  },
  {
   "cell_type": "markdown",
   "metadata": {},
   "source": [
    "---"
   ]
  },
  {
   "cell_type": "markdown",
   "metadata": {},
   "source": [
    "## 1. Recursive Query Demo"
   ]
  },
  {
   "cell_type": "markdown",
   "metadata": {},
   "source": [
    "#### Define the Query as a String variable in Python"
   ]
  },
  {
   "cell_type": "code",
   "execution_count": 179,
   "metadata": {},
   "outputs": [],
   "source": [
    "recursive_query = \"\"\"\n",
    "WITH RECURSIVE employee_hierarchy AS (\n",
    "    SELECT employee_id, manager_id\n",
    "    FROM employees\n",
    "    WHERE manager_id IS NULL\n",
    "    UNION ALL\n",
    "    SELECT e.employee_id, e.manager_id\n",
    "    FROM employees e\n",
    "    JOIN employee_hierarchy eh ON e.manager_id = eh.employee_id\n",
    ")\n",
    "SELECT *\n",
    "FROM employee_hierarchy;\n",
    "\"\"\""
   ]
  },
  {
   "cell_type": "markdown",
   "metadata": {},
   "source": [
    "#### Run the Query and put the result into a Pandas DataFrame"
   ]
  },
  {
   "cell_type": "code",
   "execution_count": 180,
   "metadata": {},
   "outputs": [],
   "source": [
    "# Import the pandas library\n",
    "import pandas as pd"
   ]
  },
  {
   "cell_type": "code",
   "execution_count": 181,
   "metadata": {},
   "outputs": [
    {
     "data": {
      "text/html": [
       "<div>\n",
       "<style scoped>\n",
       "    .dataframe tbody tr th:only-of-type {\n",
       "        vertical-align: middle;\n",
       "    }\n",
       "\n",
       "    .dataframe tbody tr th {\n",
       "        vertical-align: top;\n",
       "    }\n",
       "\n",
       "    .dataframe thead th {\n",
       "        text-align: right;\n",
       "    }\n",
       "</style>\n",
       "<table border=\"1\" class=\"dataframe\">\n",
       "  <thead>\n",
       "    <tr style=\"text-align: right;\">\n",
       "      <th></th>\n",
       "      <th>employee_id</th>\n",
       "      <th>manager_id</th>\n",
       "    </tr>\n",
       "  </thead>\n",
       "  <tbody>\n",
       "    <tr>\n",
       "      <th>0</th>\n",
       "      <td>1</td>\n",
       "      <td>NaN</td>\n",
       "    </tr>\n",
       "    <tr>\n",
       "      <th>1</th>\n",
       "      <td>2</td>\n",
       "      <td>1.0</td>\n",
       "    </tr>\n",
       "    <tr>\n",
       "      <th>2</th>\n",
       "      <td>3</td>\n",
       "      <td>1.0</td>\n",
       "    </tr>\n",
       "    <tr>\n",
       "      <th>3</th>\n",
       "      <td>4</td>\n",
       "      <td>2.0</td>\n",
       "    </tr>\n",
       "    <tr>\n",
       "      <th>4</th>\n",
       "      <td>5</td>\n",
       "      <td>2.0</td>\n",
       "    </tr>\n",
       "    <tr>\n",
       "      <th>5</th>\n",
       "      <td>6</td>\n",
       "      <td>3.0</td>\n",
       "    </tr>\n",
       "    <tr>\n",
       "      <th>6</th>\n",
       "      <td>7</td>\n",
       "      <td>4.0</td>\n",
       "    </tr>\n",
       "  </tbody>\n",
       "</table>\n",
       "</div>"
      ],
      "text/plain": [
       "   employee_id  manager_id\n",
       "0            1         NaN\n",
       "1            2         1.0\n",
       "2            3         1.0\n",
       "3            4         2.0\n",
       "4            5         2.0\n",
       "5            6         3.0\n",
       "6            7         4.0"
      ]
     },
     "execution_count": 181,
     "metadata": {},
     "output_type": "execute_result"
    }
   ],
   "source": [
    "# Run the query using the read_sql function\n",
    "df = pd.read_sql(recursive_query, conn)\n",
    "\n",
    "# Print the DataFrame\n",
    "df"
   ]
  },
  {
   "cell_type": "markdown",
   "metadata": {},
   "source": [
    "#### Why is the `manager_id` column a float?\n",
    "\n",
    "The issue likely arises from the way the Pandas handling the data types.  By default, pandas may interpret columns with missing values or mixed types as floats. You can explicitly set the data type of the manager_id column to int when creating the DataFrame."
   ]
  },
  {
   "cell_type": "code",
   "execution_count": 182,
   "metadata": {},
   "outputs": [
    {
     "data": {
      "text/html": [
       "<div>\n",
       "<style scoped>\n",
       "    .dataframe tbody tr th:only-of-type {\n",
       "        vertical-align: middle;\n",
       "    }\n",
       "\n",
       "    .dataframe tbody tr th {\n",
       "        vertical-align: top;\n",
       "    }\n",
       "\n",
       "    .dataframe thead th {\n",
       "        text-align: right;\n",
       "    }\n",
       "</style>\n",
       "<table border=\"1\" class=\"dataframe\">\n",
       "  <thead>\n",
       "    <tr style=\"text-align: right;\">\n",
       "      <th></th>\n",
       "      <th>employee_id</th>\n",
       "      <th>manager_id</th>\n",
       "    </tr>\n",
       "  </thead>\n",
       "  <tbody>\n",
       "    <tr>\n",
       "      <th>0</th>\n",
       "      <td>1</td>\n",
       "      <td>&lt;NA&gt;</td>\n",
       "    </tr>\n",
       "    <tr>\n",
       "      <th>1</th>\n",
       "      <td>2</td>\n",
       "      <td>1</td>\n",
       "    </tr>\n",
       "    <tr>\n",
       "      <th>2</th>\n",
       "      <td>3</td>\n",
       "      <td>1</td>\n",
       "    </tr>\n",
       "    <tr>\n",
       "      <th>3</th>\n",
       "      <td>4</td>\n",
       "      <td>2</td>\n",
       "    </tr>\n",
       "    <tr>\n",
       "      <th>4</th>\n",
       "      <td>5</td>\n",
       "      <td>2</td>\n",
       "    </tr>\n",
       "    <tr>\n",
       "      <th>5</th>\n",
       "      <td>6</td>\n",
       "      <td>3</td>\n",
       "    </tr>\n",
       "    <tr>\n",
       "      <th>6</th>\n",
       "      <td>7</td>\n",
       "      <td>4</td>\n",
       "    </tr>\n",
       "  </tbody>\n",
       "</table>\n",
       "</div>"
      ],
      "text/plain": [
       "   employee_id  manager_id\n",
       "0            1        <NA>\n",
       "1            2           1\n",
       "2            3           1\n",
       "3            4           2\n",
       "4            5           2\n",
       "5            6           3\n",
       "6            7           4"
      ]
     },
     "execution_count": 182,
     "metadata": {},
     "output_type": "execute_result"
    }
   ],
   "source": [
    "# Re-run the query using the read_sql function\n",
    "df = pd.read_sql(recursive_query, conn)\n",
    "\n",
    "# Explicitly set the data type of the manager_id column to integer\n",
    "df['manager_id'] = df['manager_id'].astype('Int64')  # Use 'Int64' for nullable integers\n",
    "\n",
    "# Print the DataFrame\n",
    "df"
   ]
  },
  {
   "cell_type": "markdown",
   "metadata": {},
   "source": [
    "#### Why does `employee-id=1` have `<NA>` for the `manager_id`?\n",
    "\n",
    "The employee with `employee_id=1` has no manager, so the `manager_id` is NULL in the database. When the data is loaded into a Pandas DataFrame, the NULL value is represented as `<NA>`.  You can replace the `<NA>` values with `None` or any other value using the `fillna()` method.  Let's replace the `<NA>` values with `0` for this employee.  It is often better to keep values as `None` or `NULL` in the database.  We often remove `NULL` values from the data when we load it into a DataFrame.  However, in this case, we want to keep the `NULL` values to represent the absence of a manager and therefore, we'll convert the `<NA>` values to `0`."
   ]
  },
  {
   "cell_type": "code",
   "execution_count": 183,
   "metadata": {},
   "outputs": [
    {
     "data": {
      "text/html": [
       "<div>\n",
       "<style scoped>\n",
       "    .dataframe tbody tr th:only-of-type {\n",
       "        vertical-align: middle;\n",
       "    }\n",
       "\n",
       "    .dataframe tbody tr th {\n",
       "        vertical-align: top;\n",
       "    }\n",
       "\n",
       "    .dataframe thead th {\n",
       "        text-align: right;\n",
       "    }\n",
       "</style>\n",
       "<table border=\"1\" class=\"dataframe\">\n",
       "  <thead>\n",
       "    <tr style=\"text-align: right;\">\n",
       "      <th></th>\n",
       "      <th>employee_id</th>\n",
       "      <th>manager_id</th>\n",
       "    </tr>\n",
       "  </thead>\n",
       "  <tbody>\n",
       "    <tr>\n",
       "      <th>0</th>\n",
       "      <td>1</td>\n",
       "      <td>0</td>\n",
       "    </tr>\n",
       "    <tr>\n",
       "      <th>1</th>\n",
       "      <td>2</td>\n",
       "      <td>1</td>\n",
       "    </tr>\n",
       "    <tr>\n",
       "      <th>2</th>\n",
       "      <td>3</td>\n",
       "      <td>1</td>\n",
       "    </tr>\n",
       "    <tr>\n",
       "      <th>3</th>\n",
       "      <td>4</td>\n",
       "      <td>2</td>\n",
       "    </tr>\n",
       "    <tr>\n",
       "      <th>4</th>\n",
       "      <td>5</td>\n",
       "      <td>2</td>\n",
       "    </tr>\n",
       "    <tr>\n",
       "      <th>5</th>\n",
       "      <td>6</td>\n",
       "      <td>3</td>\n",
       "    </tr>\n",
       "    <tr>\n",
       "      <th>6</th>\n",
       "      <td>7</td>\n",
       "      <td>4</td>\n",
       "    </tr>\n",
       "  </tbody>\n",
       "</table>\n",
       "</div>"
      ],
      "text/plain": [
       "   employee_id  manager_id\n",
       "0            1           0\n",
       "1            2           1\n",
       "2            3           1\n",
       "3            4           2\n",
       "4            5           2\n",
       "5            6           3\n",
       "6            7           4"
      ]
     },
     "execution_count": 183,
     "metadata": {},
     "output_type": "execute_result"
    }
   ],
   "source": [
    "df['manager_id'] = df['manager_id'].fillna(0)\n",
    "\n",
    "# Print the DataFrame\n",
    "df"
   ]
  },
  {
   "cell_type": "markdown",
   "metadata": {},
   "source": [
    "---\n",
    "\n",
    "---"
   ]
  },
  {
   "cell_type": "markdown",
   "metadata": {},
   "source": [
    "## 2. Reusability Query Demo\n",
    "\n",
    "CTEs can be referenced multiple times within a query, allowing you to reuse the same logic in different parts of the query.  Let's see an example of this."
   ]
  },
  {
   "cell_type": "markdown",
   "metadata": {},
   "source": [
    "#### Define the CTE Query as a String variable in Python"
   ]
  },
  {
   "cell_type": "code",
   "execution_count": 184,
   "metadata": {},
   "outputs": [],
   "source": [
    "# Define the CTE query as a String variable in Python\n",
    "\n",
    "reusable_cte_query = '''\n",
    "WITH RECURSIVE employee_hierarchy AS (\n",
    "    SELECT employee_id, name, manager_id, 0 AS depth\n",
    "    FROM employees\n",
    "    WHERE manager_id IS NULL\n",
    "    UNION ALL\n",
    "    SELECT e.employee_id, e.name, e.manager_id, eh.depth + 1\n",
    "    FROM employees e\n",
    "    JOIN employee_hierarchy eh ON e.manager_id = eh.employee_id\n",
    ")\n",
    "'''"
   ]
  },
  {
   "cell_type": "markdown",
   "metadata": {},
   "source": [
    "#### Define and Execute some Queries that re-use the CTE"
   ]
  },
  {
   "cell_type": "code",
   "execution_count": 185,
   "metadata": {},
   "outputs": [],
   "source": [
    "# Query 1: Select all employees in the hierarchy\n",
    "query1 = reusable_cte_query + '''\n",
    "SELECT *\n",
    "FROM employee_hierarchy;\n",
    "'''\n",
    "\n",
    "# Query 2: Count the number of employees under each manager\n",
    "query2 = reusable_cte_query + '''\n",
    "SELECT manager_id, COUNT(employee_id) AS num_employees\n",
    "FROM employee_hierarchy\n",
    "GROUP BY manager_id;\n",
    "'''\n",
    "\n",
    "# Query 3: Find the depth of the hierarchy for each employee\n",
    "query3 = reusable_cte_query + '''\n",
    "SELECT employee_id, name, manager_id, depth \n",
    "FROM employee_hierarchy;\n",
    "'''"
   ]
  },
  {
   "cell_type": "markdown",
   "metadata": {},
   "source": [
    "#### Execute the Query and put the result into a Pandas DataFrame"
   ]
  },
  {
   "cell_type": "code",
   "execution_count": 186,
   "metadata": {},
   "outputs": [
    {
     "name": "stdout",
     "output_type": "stream",
     "text": [
      "df1:\n",
      "   employee_id     name  manager_id  depth\n",
      "0            1    Alice           0      0\n",
      "1            2      Bob           1      1\n",
      "2            3  Charlie           1      1\n",
      "3            4    David           2      2\n",
      "4            5      Eve           2      2\n",
      "5            6    Frank           3      2\n",
      "6            7    Grace           4      3\n",
      "\n",
      "\n",
      "df2:\n",
      "   manager_id  num_employees\n",
      "0           0              1\n",
      "1           1              2\n",
      "2           2              2\n",
      "3           3              1\n",
      "4           4              1\n",
      "\n",
      "\n",
      "df3:\n",
      "   employee_id     name  manager_id  depth\n",
      "0            1    Alice           0      0\n",
      "1            2      Bob           1      1\n",
      "2            3  Charlie           1      1\n",
      "3            4    David           2      2\n",
      "4            5      Eve           2      2\n",
      "5            6    Frank           3      2\n",
      "6            7    Grace           4      3\n",
      "\n",
      "\n"
     ]
    }
   ],
   "source": [
    "# Dictionary to store DataFrames\n",
    "dfs = {}\n",
    "\n",
    "# Execute each query and store the result in the dictionary\n",
    "for i, query in enumerate([query1, query2, query3], start=1):\n",
    "    df_name = f'df{i}'\n",
    "    dfs[df_name] = pd.read_sql(query, conn)\n",
    "    if 'manager_id' in dfs[df_name].columns:\n",
    "        dfs[df_name]['manager_id'] = dfs[df_name]['manager_id'].astype('Int64').fillna(0)\n",
    "    \n",
    "# Display the DataFrames\n",
    "for df_name, df in dfs.items():\n",
    "    print(f\"{df_name}:\")\n",
    "    print(df)\n",
    "    print(\"\\n\")"
   ]
  },
  {
   "cell_type": "markdown",
   "metadata": {},
   "source": [
    "The organisation chart data is generated by the CTE and then used in the subsequent queries to find the employees who report to a specific manager.\n",
    "\n",
    "We can use `Matplotlib` and another library to visualize the data in the DataFrame.  We can use `networkx` to create a graph of the organization chart and `pydot` to help with its layout.  `networkx` is a Python library for creating, manipulating, and studying complex networks but it will help create the visualisation we want here.  `pydot` is a Python interface to Graphviz's Dot language and it will help with the layout of the graph (you may need to have Graphviz installed on your system to use `pydot`):\n",
    "\n",
    "> On a Mac, you can install Graphviz using Homebrew with the command `brew install graphviz`.\n",
    "> On Windows, you can download the Graphviz installer from the Graphviz website and run it to install Graphviz."
   ]
  },
  {
   "cell_type": "code",
   "execution_count": 187,
   "metadata": {},
   "outputs": [],
   "source": [
    "# Import the libraries\n",
    "import matplotlib.pyplot as plt\n",
    "import networkx as nx"
   ]
  },
  {
   "cell_type": "code",
   "execution_count": 188,
   "metadata": {},
   "outputs": [],
   "source": [
    "# Create a directed graph\n",
    "G = nx.DiGraph()"
   ]
  },
  {
   "cell_type": "code",
   "execution_count": 189,
   "metadata": {},
   "outputs": [
    {
     "data": {
      "text/html": [
       "<div>\n",
       "<style scoped>\n",
       "    .dataframe tbody tr th:only-of-type {\n",
       "        vertical-align: middle;\n",
       "    }\n",
       "\n",
       "    .dataframe tbody tr th {\n",
       "        vertical-align: top;\n",
       "    }\n",
       "\n",
       "    .dataframe thead th {\n",
       "        text-align: right;\n",
       "    }\n",
       "</style>\n",
       "<table border=\"1\" class=\"dataframe\">\n",
       "  <thead>\n",
       "    <tr style=\"text-align: right;\">\n",
       "      <th></th>\n",
       "      <th>employee_id</th>\n",
       "      <th>name</th>\n",
       "      <th>manager_id</th>\n",
       "      <th>depth</th>\n",
       "    </tr>\n",
       "  </thead>\n",
       "  <tbody>\n",
       "    <tr>\n",
       "      <th>0</th>\n",
       "      <td>1</td>\n",
       "      <td>Alice</td>\n",
       "      <td>0</td>\n",
       "      <td>0</td>\n",
       "    </tr>\n",
       "    <tr>\n",
       "      <th>1</th>\n",
       "      <td>2</td>\n",
       "      <td>Bob</td>\n",
       "      <td>1</td>\n",
       "      <td>1</td>\n",
       "    </tr>\n",
       "    <tr>\n",
       "      <th>2</th>\n",
       "      <td>3</td>\n",
       "      <td>Charlie</td>\n",
       "      <td>1</td>\n",
       "      <td>1</td>\n",
       "    </tr>\n",
       "    <tr>\n",
       "      <th>3</th>\n",
       "      <td>4</td>\n",
       "      <td>David</td>\n",
       "      <td>2</td>\n",
       "      <td>2</td>\n",
       "    </tr>\n",
       "    <tr>\n",
       "      <th>4</th>\n",
       "      <td>5</td>\n",
       "      <td>Eve</td>\n",
       "      <td>2</td>\n",
       "      <td>2</td>\n",
       "    </tr>\n",
       "  </tbody>\n",
       "</table>\n",
       "</div>"
      ],
      "text/plain": [
       "   employee_id     name  manager_id  depth\n",
       "0            1    Alice           0      0\n",
       "1            2      Bob           1      1\n",
       "2            3  Charlie           1      1\n",
       "3            4    David           2      2\n",
       "4            5      Eve           2      2"
      ]
     },
     "execution_count": 189,
     "metadata": {},
     "output_type": "execute_result"
    }
   ],
   "source": [
    "# Specify the dataframe to plot\n",
    "df = dfs['df3']\n",
    "\n",
    "df.head()"
   ]
  },
  {
   "cell_type": "markdown",
   "metadata": {},
   "source": [
    "---\n",
    "\n",
    "---"
   ]
  },
  {
   "cell_type": "markdown",
   "metadata": {},
   "source": [
    "## 3. Data Transformation Query Demo\n",
    "\n",
    "CTEs can be used to transform data in a query, such as aggregating, filtering, or joining data from multiple tables.  Let's see an example of this."
   ]
  },
  {
   "cell_type": "markdown",
   "metadata": {},
   "source": [
    "### Modify and Add to the Database for the Demo"
   ]
  },
  {
   "cell_type": "code",
   "execution_count": 190,
   "metadata": {},
   "outputs": [
    {
     "data": {
      "text/plain": [
       "<sqlite3.Cursor at 0x26d07b11fc0>"
      ]
     },
     "execution_count": 190,
     "metadata": {},
     "output_type": "execute_result"
    }
   ],
   "source": [
    "# Create additions to the in-memory SQLite database for aggregating and joining data from multiple tables\n",
    "\n",
    "# Create the departments table\n",
    "\n",
    "cursor.execute('''\n",
    "CREATE TABLE departments (\n",
    "    department_id INTEGER PRIMARY KEY,\n",
    "    name TEXT\n",
    ")\n",
    "''')\n",
    "\n",
    "# Populate the departments table with sample data\n",
    "\n",
    "departments = [\n",
    "    (1, 'Engineering'),\n",
    "    (2, 'Marketing'),\n",
    "    (3, 'Sales'),\n",
    "    (4, 'Executive')\n",
    "]\n",
    "\n",
    "cursor.executemany('INSERT INTO departments (department_id, name) VALUES (?, ?)', departments)\n",
    "\n",
    "# Add department information to the employees table\n",
    "cursor.execute('''\n",
    "ALTER TABLE employees\n",
    "ADD COLUMN department_id INTEGER\n",
    "''')\n",
    "\n",
    "# Update the department_id column with sample data\n",
    "cursor.execute('''\n",
    "UPDATE employees\n",
    "SET department_id = 1\n",
    "WHERE employee_id IN (2, 4, 5, 7)\n",
    "''')\n",
    "\n",
    "cursor.execute('''\n",
    "UPDATE employees\n",
    "SET department_id = 2\n",
    "WHERE employee_id = 3\n",
    "''')\n",
    "\n",
    "cursor.execute('''\n",
    "UPDATE employees\n",
    "SET department_id = 3\n",
    "WHERE employee_id = 6\n",
    "''')\n",
    "\n",
    "cursor.execute('''\n",
    "UPDATE employees\n",
    "SET department_id = 4\n",
    "WHERE employee_id = 1\n",
    "''')\n",
    "\n",
    "\n",
    "# Create the salaries table\n",
    "cursor.execute('''\n",
    "CREATE TABLE salaries (\n",
    "    employee_id INTEGER PRIMARY KEY,\n",
    "    salary INTEGER\n",
    ")\n",
    "''')\n",
    "\n",
    "# Populate the salaries table with sample data\n",
    "\n",
    "salaries = [\n",
    "    (1, 100000),\n",
    "    (2, 80000),\n",
    "    (3, 75000),\n",
    "    (4, 70000),\n",
    "    (5, 60000),\n",
    "    (6, 65000),\n",
    "    (7, 55000),\n",
    "]\n",
    "\n",
    "cursor.executemany('INSERT INTO salaries (employee_id, salary) VALUES (?, ?)', salaries)\n"
   ]
  },
  {
   "cell_type": "markdown",
   "metadata": {},
   "source": [
    "### Query 4 - Data Transformation - Joining\n",
    "\n",
    "The following query will join the employees table with the salaries and department tables and simplify the data by selecting only the relevant columns.\n",
    "\n",
    "> ***QUESTIONS***:\n",
    "> \n",
    "> 1. Why may it be desirable to extract the salary data into a separate table?\n",
    "> 2. Why does this feel like bad database design?\n",
    "> 3. What features of the database could be used to help the security of the salary data?"
   ]
  },
  {
   "cell_type": "code",
   "execution_count": 191,
   "metadata": {},
   "outputs": [],
   "source": [
    "# Define a query to list the employee name, department name, manager name and salary\n",
    "query4 = '''\n",
    "SELECT e.name AS employee_name, d.name AS department_name, m.name AS manager_name, s.salary\n",
    "FROM employees e\n",
    "JOIN departments d ON e.department_id = d.department_id\n",
    "LEFT JOIN employees m ON e.manager_id = m.employee_id\n",
    "JOIN salaries s ON e.employee_id = s.employee_id\n",
    "'''"
   ]
  },
  {
   "cell_type": "code",
   "execution_count": 192,
   "metadata": {},
   "outputs": [
    {
     "data": {
      "text/html": [
       "<div>\n",
       "<style scoped>\n",
       "    .dataframe tbody tr th:only-of-type {\n",
       "        vertical-align: middle;\n",
       "    }\n",
       "\n",
       "    .dataframe tbody tr th {\n",
       "        vertical-align: top;\n",
       "    }\n",
       "\n",
       "    .dataframe thead th {\n",
       "        text-align: right;\n",
       "    }\n",
       "</style>\n",
       "<table border=\"1\" class=\"dataframe\">\n",
       "  <thead>\n",
       "    <tr style=\"text-align: right;\">\n",
       "      <th></th>\n",
       "      <th>employee_name</th>\n",
       "      <th>department_name</th>\n",
       "      <th>manager_name</th>\n",
       "      <th>salary</th>\n",
       "    </tr>\n",
       "  </thead>\n",
       "  <tbody>\n",
       "    <tr>\n",
       "      <th>0</th>\n",
       "      <td>Alice</td>\n",
       "      <td>Executive</td>\n",
       "      <td>None</td>\n",
       "      <td>100000</td>\n",
       "    </tr>\n",
       "    <tr>\n",
       "      <th>1</th>\n",
       "      <td>Bob</td>\n",
       "      <td>Engineering</td>\n",
       "      <td>Alice</td>\n",
       "      <td>80000</td>\n",
       "    </tr>\n",
       "    <tr>\n",
       "      <th>2</th>\n",
       "      <td>Charlie</td>\n",
       "      <td>Marketing</td>\n",
       "      <td>Alice</td>\n",
       "      <td>75000</td>\n",
       "    </tr>\n",
       "    <tr>\n",
       "      <th>3</th>\n",
       "      <td>David</td>\n",
       "      <td>Engineering</td>\n",
       "      <td>Bob</td>\n",
       "      <td>70000</td>\n",
       "    </tr>\n",
       "    <tr>\n",
       "      <th>4</th>\n",
       "      <td>Eve</td>\n",
       "      <td>Engineering</td>\n",
       "      <td>Bob</td>\n",
       "      <td>60000</td>\n",
       "    </tr>\n",
       "    <tr>\n",
       "      <th>5</th>\n",
       "      <td>Frank</td>\n",
       "      <td>Sales</td>\n",
       "      <td>Charlie</td>\n",
       "      <td>65000</td>\n",
       "    </tr>\n",
       "    <tr>\n",
       "      <th>6</th>\n",
       "      <td>Grace</td>\n",
       "      <td>Engineering</td>\n",
       "      <td>David</td>\n",
       "      <td>55000</td>\n",
       "    </tr>\n",
       "  </tbody>\n",
       "</table>\n",
       "</div>"
      ],
      "text/plain": [
       "  employee_name department_name manager_name  salary\n",
       "0         Alice       Executive         None  100000\n",
       "1           Bob     Engineering        Alice   80000\n",
       "2       Charlie       Marketing        Alice   75000\n",
       "3         David     Engineering          Bob   70000\n",
       "4           Eve     Engineering          Bob   60000\n",
       "5         Frank           Sales      Charlie   65000\n",
       "6         Grace     Engineering        David   55000"
      ]
     },
     "execution_count": 192,
     "metadata": {},
     "output_type": "execute_result"
    }
   ],
   "source": [
    "# Execute the query and convert into a DataFrame\n",
    "df4 = pd.read_sql(query4, conn)\n",
    "\n",
    "# Display the DataFrame\n",
    "df4"
   ]
  },
  {
   "cell_type": "markdown",
   "metadata": {},
   "source": [
    "***Hang on just a minute...that query is not a CTE!  However, is it easy to read?  Could it be improved?  Let's see how we can use a CTE to make this query more readable.***"
   ]
  },
  {
   "cell_type": "code",
   "execution_count": 193,
   "metadata": {},
   "outputs": [],
   "source": [
    "employee_details_cte = '''\n",
    "WITH employee_details AS (\n",
    "    SELECT \n",
    "        e.employee_id,\n",
    "        e.name AS employee_name,\n",
    "        e.manager_id,\n",
    "        e.department_id,\n",
    "        s.salary\n",
    "    FROM \n",
    "        employees e\n",
    "    JOIN \n",
    "        salaries s ON e.employee_id = s.employee_id\n",
    ")\n",
    "'''\n",
    "\n",
    "department_details_cte = '''\n",
    "department_details AS (\n",
    "    SELECT \n",
    "        d.department_id,\n",
    "        d.name AS department_name\n",
    "    FROM \n",
    "        departments d\n",
    ")\n",
    "'''\n",
    "\n",
    "manager_details_cte = '''\n",
    "manager_details AS (\n",
    "    SELECT \n",
    "        m.employee_id,\n",
    "        m.name AS manager_name\n",
    "    FROM \n",
    "        employees m\n",
    ")\n",
    "'''\n",
    "\n",
    "actual_query = '''\n",
    "SELECT \n",
    "    ed.employee_name, \n",
    "    dd.department_name, \n",
    "    md.manager_name, \n",
    "    ed.salary\n",
    "FROM \n",
    "    employee_details ed\n",
    "JOIN \n",
    "    department_details dd ON ed.department_id = dd.department_id\n",
    "LEFT JOIN \n",
    "    manager_details md ON ed.manager_id = md.employee_id;\n",
    "'''\n",
    "\n",
    "# Define the main query to join the CTEs\n",
    "query5 = employee_details_cte + ', ' + department_details_cte + ', ' + manager_details_cte + actual_query\n"
   ]
  },
  {
   "cell_type": "code",
   "execution_count": 194,
   "metadata": {},
   "outputs": [
    {
     "data": {
      "text/html": [
       "<div>\n",
       "<style scoped>\n",
       "    .dataframe tbody tr th:only-of-type {\n",
       "        vertical-align: middle;\n",
       "    }\n",
       "\n",
       "    .dataframe tbody tr th {\n",
       "        vertical-align: top;\n",
       "    }\n",
       "\n",
       "    .dataframe thead th {\n",
       "        text-align: right;\n",
       "    }\n",
       "</style>\n",
       "<table border=\"1\" class=\"dataframe\">\n",
       "  <thead>\n",
       "    <tr style=\"text-align: right;\">\n",
       "      <th></th>\n",
       "      <th>employee_name</th>\n",
       "      <th>department_name</th>\n",
       "      <th>manager_name</th>\n",
       "      <th>salary</th>\n",
       "    </tr>\n",
       "  </thead>\n",
       "  <tbody>\n",
       "    <tr>\n",
       "      <th>0</th>\n",
       "      <td>Alice</td>\n",
       "      <td>Executive</td>\n",
       "      <td>None</td>\n",
       "      <td>100000</td>\n",
       "    </tr>\n",
       "    <tr>\n",
       "      <th>1</th>\n",
       "      <td>Bob</td>\n",
       "      <td>Engineering</td>\n",
       "      <td>Alice</td>\n",
       "      <td>80000</td>\n",
       "    </tr>\n",
       "    <tr>\n",
       "      <th>2</th>\n",
       "      <td>Charlie</td>\n",
       "      <td>Marketing</td>\n",
       "      <td>Alice</td>\n",
       "      <td>75000</td>\n",
       "    </tr>\n",
       "    <tr>\n",
       "      <th>3</th>\n",
       "      <td>David</td>\n",
       "      <td>Engineering</td>\n",
       "      <td>Bob</td>\n",
       "      <td>70000</td>\n",
       "    </tr>\n",
       "    <tr>\n",
       "      <th>4</th>\n",
       "      <td>Eve</td>\n",
       "      <td>Engineering</td>\n",
       "      <td>Bob</td>\n",
       "      <td>60000</td>\n",
       "    </tr>\n",
       "    <tr>\n",
       "      <th>5</th>\n",
       "      <td>Frank</td>\n",
       "      <td>Sales</td>\n",
       "      <td>Charlie</td>\n",
       "      <td>65000</td>\n",
       "    </tr>\n",
       "    <tr>\n",
       "      <th>6</th>\n",
       "      <td>Grace</td>\n",
       "      <td>Engineering</td>\n",
       "      <td>David</td>\n",
       "      <td>55000</td>\n",
       "    </tr>\n",
       "  </tbody>\n",
       "</table>\n",
       "</div>"
      ],
      "text/plain": [
       "  employee_name department_name manager_name  salary\n",
       "0         Alice       Executive         None  100000\n",
       "1           Bob     Engineering        Alice   80000\n",
       "2       Charlie       Marketing        Alice   75000\n",
       "3         David     Engineering          Bob   70000\n",
       "4           Eve     Engineering          Bob   60000\n",
       "5         Frank           Sales      Charlie   65000\n",
       "6         Grace     Engineering        David   55000"
      ]
     },
     "execution_count": 194,
     "metadata": {},
     "output_type": "execute_result"
    }
   ],
   "source": [
    "# Execute the query and convert into a DataFrame\n",
    "df5 = pd.read_sql(query5, conn)\n",
    "\n",
    "df5"
   ]
  },
  {
   "cell_type": "markdown",
   "metadata": {},
   "source": [
    "---\n",
    "\n",
    "---"
   ]
  },
  {
   "cell_type": "markdown",
   "metadata": {},
   "source": [
    "## Over to you...\n",
    "\n",
    "### Activity 1\n",
    "\n",
    "Given the tables already created, write query that aggregates the salary data by department and calculates the average salary for each department."
   ]
  },
  {
   "cell_type": "code",
   "execution_count": 195,
   "metadata": {},
   "outputs": [
    {
     "data": {
      "text/html": [
       "<div>\n",
       "<style scoped>\n",
       "    .dataframe tbody tr th:only-of-type {\n",
       "        vertical-align: middle;\n",
       "    }\n",
       "\n",
       "    .dataframe tbody tr th {\n",
       "        vertical-align: top;\n",
       "    }\n",
       "\n",
       "    .dataframe thead th {\n",
       "        text-align: right;\n",
       "    }\n",
       "</style>\n",
       "<table border=\"1\" class=\"dataframe\">\n",
       "  <thead>\n",
       "    <tr style=\"text-align: right;\">\n",
       "      <th></th>\n",
       "      <th>department_name</th>\n",
       "      <th>average_salary</th>\n",
       "    </tr>\n",
       "  </thead>\n",
       "  <tbody>\n",
       "    <tr>\n",
       "      <th>0</th>\n",
       "      <td>Engineering</td>\n",
       "      <td>66250.0</td>\n",
       "    </tr>\n",
       "    <tr>\n",
       "      <th>1</th>\n",
       "      <td>Executive</td>\n",
       "      <td>100000.0</td>\n",
       "    </tr>\n",
       "    <tr>\n",
       "      <th>2</th>\n",
       "      <td>Marketing</td>\n",
       "      <td>75000.0</td>\n",
       "    </tr>\n",
       "    <tr>\n",
       "      <th>3</th>\n",
       "      <td>Sales</td>\n",
       "      <td>65000.0</td>\n",
       "    </tr>\n",
       "  </tbody>\n",
       "</table>\n",
       "</div>"
      ],
      "text/plain": [
       "  department_name  average_salary\n",
       "0     Engineering         66250.0\n",
       "1       Executive        100000.0\n",
       "2       Marketing         75000.0\n",
       "3           Sales         65000.0"
      ]
     },
     "execution_count": 195,
     "metadata": {},
     "output_type": "execute_result"
    }
   ],
   "source": [
    "# Query to aggregate average salary by department\n",
    "# You may use the previously defined CTEs for employee and department details if you wish\n",
    "# Redefine the CTEs if you wish to practice your own!\n",
    "# Use the same connection object (conn)\n",
    "\n",
    "query6 = '''\n",
    "SELECT\n",
    "    d.department_name,\n",
    "    AVG(e.salary) AS average_salary\n",
    "FROM\n",
    "    employee_details AS e\n",
    "JOIN\n",
    "    department_details AS d on d.department_id = e.department_id\n",
    "GROUP BY\n",
    "    d.department_name;\n",
    "'''\n",
    "query6 = employee_details_cte + ', ' + department_details_cte + query6\n",
    "\n",
    "# Run the query and store the result in a DataFrame\n",
    "\n",
    "df6 = pd.read_sql(query6, conn)\n",
    "\n",
    "df6"
   ]
  },
  {
   "cell_type": "markdown",
   "metadata": {},
   "source": [
    "---"
   ]
  },
  {
   "cell_type": "markdown",
   "metadata": {},
   "source": [
    "### Activity 2\n",
    "\n",
    "How much are we paying out (in total salary) those who are 2 tiers (`depth = 2`) below the CEO in the hierarchy?"
   ]
  },
  {
   "cell_type": "code",
   "execution_count": 196,
   "metadata": {},
   "outputs": [],
   "source": [
    "reusable_cte_query = '''\n",
    "WITH RECURSIVE employee_hierarchy AS (\n",
    "    SELECT employee_id, name, manager_id, 0 AS depth\n",
    "    FROM employees\n",
    "    WHERE manager_id IS NULL\n",
    "    UNION ALL\n",
    "    SELECT e.employee_id, e.name, e.manager_id, eh.depth + 1\n",
    "    FROM employees e\n",
    "    JOIN employee_hierarchy eh ON e.manager_id = eh.employee_id\n",
    ")\n",
    "'''\n",
    "\n",
    "employee_details_cte = '''\n",
    "employee_details AS (\n",
    "    SELECT \n",
    "        e.employee_id,\n",
    "        e.name AS employee_name,\n",
    "        e.manager_id,\n",
    "        e.department_id,\n",
    "        s.salary\n",
    "    FROM \n",
    "        employees e\n",
    "    JOIN \n",
    "        salaries s ON e.employee_id = s.employee_id\n",
    ")\n",
    "'''"
   ]
  },
  {
   "cell_type": "code",
   "execution_count": 197,
   "metadata": {},
   "outputs": [
    {
     "data": {
      "text/html": [
       "<div>\n",
       "<style scoped>\n",
       "    .dataframe tbody tr th:only-of-type {\n",
       "        vertical-align: middle;\n",
       "    }\n",
       "\n",
       "    .dataframe tbody tr th {\n",
       "        vertical-align: top;\n",
       "    }\n",
       "\n",
       "    .dataframe thead th {\n",
       "        text-align: right;\n",
       "    }\n",
       "</style>\n",
       "<table border=\"1\" class=\"dataframe\">\n",
       "  <thead>\n",
       "    <tr style=\"text-align: right;\">\n",
       "      <th></th>\n",
       "      <th>employee_name</th>\n",
       "      <th>salary</th>\n",
       "    </tr>\n",
       "  </thead>\n",
       "  <tbody>\n",
       "    <tr>\n",
       "      <th>0</th>\n",
       "      <td>David</td>\n",
       "      <td>70000</td>\n",
       "    </tr>\n",
       "    <tr>\n",
       "      <th>1</th>\n",
       "      <td>Eve</td>\n",
       "      <td>60000</td>\n",
       "    </tr>\n",
       "    <tr>\n",
       "      <th>2</th>\n",
       "      <td>Frank</td>\n",
       "      <td>65000</td>\n",
       "    </tr>\n",
       "  </tbody>\n",
       "</table>\n",
       "</div>"
      ],
      "text/plain": [
       "  employee_name  salary\n",
       "0         David   70000\n",
       "1           Eve   60000\n",
       "2         Frank   65000"
      ]
     },
     "execution_count": 197,
     "metadata": {},
     "output_type": "execute_result"
    }
   ],
   "source": [
    "# Query to find the total salary expense for those who are on depth = 2 of the hierarchy\n",
    "\n",
    "query7 = '''\n",
    "SELECT\n",
    "    ed.employee_name,\n",
    "    salary\n",
    "FROM\n",
    "    employee_hierarchy AS eh\n",
    "JOIN\n",
    "    employee_details AS ed ON ed.employee_id = eh.employee_id\n",
    "WHERE\n",
    "    depth = 2;\n",
    "'''\n",
    "\n",
    "query7 = reusable_cte_query + ', ' + employee_details_cte + query7\n",
    "\n",
    "# Run the query and store the result in a DataFrame\n",
    "df7 = pd.read_sql(query7, conn)\n",
    "\n",
    "df7"
   ]
  },
  {
   "cell_type": "markdown",
   "metadata": {},
   "source": [
    "---"
   ]
  },
  {
   "cell_type": "markdown",
   "metadata": {},
   "source": [
    "## Query Solutions"
   ]
  },
  {
   "cell_type": "markdown",
   "metadata": {},
   "source": [
    "#### Activity 1"
   ]
  },
  {
   "cell_type": "code",
   "execution_count": 198,
   "metadata": {
    "vscode": {
     "languageId": "sql"
    }
   },
   "outputs": [
    {
     "ename": "SyntaxError",
     "evalue": "invalid syntax (641215520.py, line 1)",
     "output_type": "error",
     "traceback": [
      "\u001b[1;36m  Cell \u001b[1;32mIn[198], line 1\u001b[1;36m\u001b[0m\n\u001b[1;33m    WITH employee_details AS (\u001b[0m\n\u001b[1;37m         ^\u001b[0m\n\u001b[1;31mSyntaxError\u001b[0m\u001b[1;31m:\u001b[0m invalid syntax\n"
     ]
    }
   ],
   "source": [
    "WITH employee_details AS (\n",
    "    SELECT \n",
    "        e.employee_id,\n",
    "        e.name AS employee_name,\n",
    "        e.department_id,\n",
    "        s.salary\n",
    "    FROM \n",
    "        employees e\n",
    "    JOIN \n",
    "        salaries s ON e.employee_id = s.employee_id\n",
    "),\n",
    "department_salaries AS (\n",
    "    SELECT \n",
    "        ed.department_id,\n",
    "        AVG(ed.salary) AS avg_salary\n",
    "    FROM \n",
    "        employee_details ed\n",
    "    GROUP BY \n",
    "        ed.department_id\n",
    ")\n",
    "SELECT\n",
    "    dd.name,\n",
    "    ds.avg_salary\n",
    "FROM\n",
    "    department_salaries ds\n",
    "JOIN\n",
    "    departments dd ON ds.department_id = dd.department_id;"
   ]
  },
  {
   "cell_type": "markdown",
   "metadata": {},
   "source": [
    "#### Activity 2"
   ]
  },
  {
   "cell_type": "code",
   "execution_count": null,
   "metadata": {
    "vscode": {
     "languageId": "sql"
    }
   },
   "outputs": [],
   "source": [
    "WITH RECURSIVE employee_hierarchy AS (\n",
    "    SELECT employee_id, manager_id, 0 AS depth\n",
    "    FROM employees\n",
    "    WHERE manager_id IS NULL\n",
    "    UNION ALL\n",
    "    SELECT e.employee_id, e.manager_id, eh.depth + 1\n",
    "    FROM employees e\n",
    "    JOIN employee_hierarchy eh ON e.manager_id = eh.employee_id\n",
    "),\n",
    "depth_2_employees AS (\n",
    "    SELECT employee_id\n",
    "    FROM employee_hierarchy\n",
    "    WHERE depth = 2\n",
    ")\n",
    "SELECT\n",
    "    SUM(s.salary) AS total_salary_expense\n",
    "FROM\n",
    "    salaries s\n",
    "JOIN\n",
    "    depth_2_employees d2e ON s.employee_id = d2e.employee_id;"
   ]
  }
 ],
 "metadata": {
  "kernelspec": {
   "display_name": "Python 3",
   "language": "python",
   "name": "python3"
  },
  "language_info": {
   "codemirror_mode": {
    "name": "ipython",
    "version": 3
   },
   "file_extension": ".py",
   "mimetype": "text/x-python",
   "name": "python",
   "nbconvert_exporter": "python",
   "pygments_lexer": "ipython3",
   "version": "3.11.5"
  }
 },
 "nbformat": 4,
 "nbformat_minor": 2
}
